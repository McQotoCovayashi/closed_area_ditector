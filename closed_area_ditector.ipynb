{
 "cells": [
  {
   "cell_type": "markdown",
   "metadata": {},
   "source": [
    "# pythonで画像の縁取りする　その1\n",
    "### openCV, numpy, matplotlib\n",
    "\n",
    "## 環境\n",
    "\n",
    "* ubuntu 18.04 LTS \n",
    "* Anaconda 1.7.2\n",
    "* python 3.7.3\n",
    "* openCV 3.4.2\n",
    "* numpy 1.16.2\n",
    "* matplotlib 3.03\n",
    "* Jupyter Notebook "
   ]
  },
  {
   "cell_type": "markdown",
   "metadata": {},
   "source": [
    "## やろうと思ったきっかけ\n",
    "* 機械学習のデータセットづくりに輪郭を取る機会が多いけれどそれをなるべく自動化したい。\n",
    "* openCV, numpy, matplotlib の学習\n",
    "* ミリオタ成分強めの主が魚雷の誘導法（ウェーキホーミング）を知ったので、それを使ってみたかった。"
   ]
  },
  {
   "cell_type": "markdown",
   "metadata": {},
   "source": [
    "## 前提となる知識\n",
    "* pythonや各ライブラリの操作方法\n",
    "* 極座標の数学"
   ]
  },
  {
   "cell_type": "markdown",
   "metadata": {},
   "source": [
    "## もろもろインポート\n",
    "jupyter でmatplotlibを出力するにはマジックコマンドを使うのが吉。\n",
    "テスト用の画像はこんな感じのバイナリ画像（0 or 255 の2値画像）。\n",
    "\n",
    "画像処理を噛ませれば、RGB画像でもできると思う（予定）。\n",
    "\n",
    "ubuntuでのJupyter Notebookだとcv2.imshow()が使えないそうで、matplotlib一択。"
   ]
  },
  {
   "cell_type": "code",
   "execution_count": 1,
   "metadata": {},
   "outputs": [
    {
     "data": {
      "image/png": "[encoded data removed]",
      "text/plain": [
       "<Figure size 432x288 with 1 Axes>"
      ]
     },
     "metadata": {
      "needs_background": "light"
     },
     "output_type": "display_data"
    }
   ],
   "source": [
    "%matplotlib inline\n",
    "import cv2\n",
    "import numpy as np\n",
    "import matplotlib.pyplot as plt\n",
    "img = cv2.imread(\"test.png\")\n",
    "image = plt.imshow(img)"
   ]
  },
  {
   "cell_type": "markdown",
   "metadata": {},
   "source": [
    "## グレイスケール化"
   ]
  },
  {
   "cell_type": "code",
   "execution_count": 2,
   "metadata": {},
   "outputs": [],
   "source": [
    "img = cv2.cvtColor(img, cv2.COLOR_BGR2GRAY)"
   ]
  },
  {
   "cell_type": "markdown",
   "metadata": {},
   "source": [
    "## 関数群"
   ]
  },
  {
   "cell_type": "markdown",
   "metadata": {},
   "source": [
    "### 範囲や座標変換用\n",
    "* is_background :指定のピクセルが縁どりたい物体(白)の上にある（False)のか、背景にあるのか（True)を判定する。\n",
    "* radians_full :point0からpoint1 まで引いた直線がx軸に対してどのくらいの角度になるかを計算。範囲は0〜2${\\pi}$\n",
    "* in_range:指定の数値が範囲内にあるかどうかを判断し、範囲外の場合は末端の値に書き換える\n",
    "* in_range_polar:上記の関数を使ってpointから半径r, 角度${\\theta}$ 行った点を出力する。画像の範囲外に出た場合は末端の値を出力する"
   ]
  },
  {
   "cell_type": "code",
   "execution_count": 4,
   "metadata": {},
   "outputs": [],
   "source": [
    "def is_background(img, point, background = 0):\n",
    "    y_max, x_max = img.shape\n",
    "    x = point[0]\n",
    "    y = point[1]\n",
    "    if in_range(x,0,x_max)!= x or in_range(y,0,y_max)!= y:\n",
    "        return \"({},{}) is out of bounds.\".format(x,y)\n",
    "    if img[y][x] == background:\n",
    "        return True\n",
    "    else:\n",
    "        return False"
   ]
  },
  {
   "cell_type": "code",
   "execution_count": 6,
   "metadata": {},
   "outputs": [],
   "source": [
    "def radians_full(point0,point1):\n",
    "    x0, y0 = point0\n",
    "    x1, y1 = point1\n",
    "    dx = x1 - x0\n",
    "    dy = y1 - y0\n",
    "    full_arctan = {\n",
    "        (1.0,1.0):0,\n",
    "        (-1.0,1.0):np.pi,\n",
    "        (-1.0,-1.0):np.pi,\n",
    "        (1.0,-1.0):2*np.pi        \n",
    "    }\n",
    "    if dx == 0 and dy >= 0:\n",
    "        return 0.5*np.pi\n",
    "    elif dx == 0 and dy < 0:\n",
    "        return 1.5 * np.pi\n",
    "    else:\n",
    "        return np.arctan(dy/dx) + full_arctan[(dx/abs(dx),(dy+0.000001)/abs(dy+0.000001))]"
   ]
  },
  {
   "cell_type": "code",
   "execution_count": 3,
   "metadata": {},
   "outputs": [],
   "source": [
    "def in_range(x, x_min, x_max):\n",
    "    if x > x_max:\n",
    "        x = x_max\n",
    "    if x < 0:\n",
    "        x = 0\n",
    "    return x"
   ]
  },
  {
   "cell_type": "code",
   "execution_count": 7,
   "metadata": {},
   "outputs": [],
   "source": [
    "def in_range_polar(img, point, r, theta):\n",
    "    y_max, x_max = img.shape\n",
    "    x_max -= 1\n",
    "    y_max -= 1\n",
    "    x0, y0 = point\n",
    "    x = int(x0 + r * np.cos(theta))\n",
    "    y = int(y0 + r * np.sin(theta))\n",
    "    theta = radians_full(point,(x,y))\n",
    "    if in_range(x,0,x_max) != x:\n",
    "        r = abs((in_range(x,0,x_max) - x0)/np.cos(theta))\n",
    "        x = int(x0 + r * np.cos(theta))\n",
    "    if in_range(y,0,y_max) != y:\n",
    "        r = abs((in_range(y,0,y_max) - y0)/np.sin(theta))\n",
    "        x = int(x0 + r * np.cos(theta))\n",
    "        y = int(y0 + r * np.sin(theta))\n",
    "    return (x, y, r, theta)"
   ]
  },
  {
   "cell_type": "markdown",
   "metadata": {},
   "source": [
    "## エッジを検出用&グラフプロット用\n",
    "* find_edge:指定されたlineに沿って画像のピクセルを確認して色の変わった地点をエッジとして座標を出力する。\n",
    "* edge_trace:指定された点を中心にしてfind_edgeのlineを360°回転してエッジの座標をリストで出力する。\n",
    "* edgr_plot:edge_traceの座標をmatplotlibで描画。はっきり行って適当。サブプロットしてレイアウトコル気力が残ってなかった。\n",
    "\n",
    "edge_traceを魚雷が航跡を追いかける方法で実装しようとしたのだけれど、色々やっているうちに跡形もなくなった。残っているのが概念だけ。"
   ]
  },
  {
   "cell_type": "code",
   "execution_count": 5,
   "metadata": {},
   "outputs": [],
   "source": [
    "def find_edge(img,line):\n",
    "    try:\n",
    "        x0,y0,x1,y1 = line\n",
    "        dx = x1 - x0\n",
    "        dy = y1 - y0\n",
    "        r = np.sqrt(dx ** 2 + dy **2)\n",
    "        step = int(r)\n",
    "        dr = r/step\n",
    "        result = (False, \"edge not found\")\n",
    "        color = img[y0][x0]\n",
    "        x = x0\n",
    "        y = y0\n",
    "        theta = 0.0\n",
    "        if dx == 0:\n",
    "            for i in range(step):\n",
    "                sign = dy/abs(dy)\n",
    "                x = x0\n",
    "                y = int(y + dr*sign)\n",
    "                if img[y][x] == color:\n",
    "                    continue\n",
    "                else:\n",
    "                    result = (x,y)\n",
    "                    return result\n",
    "            return result\n",
    "        else:\n",
    "            theta = np.arctan(dy/dx)\n",
    "        if dx < 0:\n",
    "            theta += np.pi\n",
    "\n",
    "        for i in range(step):\n",
    "            x =int(x0 + dr*i * np.cos(theta))\n",
    "            y = int(y0 + dr*i * np.sin(theta))\n",
    "            if img[y][x] == color:\n",
    "                continue\n",
    "            else:\n",
    "                result = (x,y)\n",
    "                return result\n",
    "        return result\n",
    "    except IndexError:\n",
    "        return result"
   ]
  },
  {
   "cell_type": "code",
   "execution_count": 8,
   "metadata": {},
   "outputs": [],
   "source": [
    "def edge_trace(img, point, background = 0, search_range = 80):\n",
    "    if is_background(img, point, background) == True:\n",
    "        raise TypeError(\"The point must not be in the background.\") \n",
    "    else:\n",
    "        edges = []\n",
    "        y_max, x_max = img.shape\n",
    "        y_max -= 1\n",
    "        x_max -= 1\n",
    "        x0, y0 = point\n",
    "        line0 = (x0, y0, x_max, y0)\n",
    "        x1, y1 = find_edge(img,line0)\n",
    "        if x1 == False:\n",
    "            x1, y1 = (x_max, y0)\n",
    "        r = abs(x1 - x0)\n",
    "        edges.append((x1,y1))\n",
    "        #print(\"x0,y0:\",x0,y0)\n",
    "        #print(\"x1,y1:\",x1,y1)\n",
    "        #print(\"r:\",r)\n",
    "\n",
    "        for theta in range(1,360,1):\n",
    "            theta_rad = np.radians(theta)\n",
    "            x, y, r, theta_rad = in_range_polar(img, point, r, theta_rad)\n",
    "            while is_background(img, (x,y), background) == True:\n",
    "                r -= search_range\n",
    "                x, y, _, __ = in_range_polar(img, point, r, theta_rad)\n",
    "                x = int(x0 + r * np.cos(np.radians(theta)))\n",
    "                if (0<=x<x_max and 0<=y<y_max) == False:\n",
    "                    break\n",
    "            r += search_range\n",
    "            xx, yy, r, __ = in_range_polar(img, point, r, theta_rad)\n",
    "            while is_background(img, (xx,yy), background) == False:\n",
    "                r += search_range\n",
    "                xx, yy, _, __ = in_range_polar(img,point, r, theta_rad)\n",
    "                if (0<=xx<x_max and 0<=yy<y_max) == False:\n",
    "                    break\n",
    "            point2 = find_edge(img, (x,y,xx,yy))\n",
    "            if point2[0] == False:\n",
    "                continue\n",
    "            edges.append(point2)\n",
    "    return edges"
   ]
  },
  {
   "cell_type": "code",
   "execution_count": 9,
   "metadata": {},
   "outputs": [],
   "source": [
    "def edge_plot(point, search_range=30, background = 0):\n",
    "    x,y =point\n",
    "    plt.scatter(x,y, c = \"red\")\n",
    "    y_max, x_max = img.shape\n",
    "\n",
    "    edges = edge_trace(img, point, search_range = search_range, background = background)\n",
    "\n",
    "    Xs = [edge[0] for edge in edges]\n",
    "    Ys = [edge[1] for edge in edges]\n",
    "\n",
    "    plt.scatter(Xs,Ys)\n",
    "    plt.gca().invert_yaxis()\n",
    "    plt.show()"
   ]
  },
  {
   "cell_type": "markdown",
   "metadata": {},
   "source": [
    "## 実行結果\n",
    "赤い点を中心にしてlineを一回転して見つけたエッジをプロットしている。4パターン"
   ]
  },
  {
   "cell_type": "code",
   "execution_count": 10,
   "metadata": {},
   "outputs": [
    {
     "data": {
      "image/png": "[encoded data removed]",
      "text/plain": [
       "<Figure size 432x288 with 1 Axes>"
      ]
     },
     "metadata": {
      "needs_background": "light"
     },
     "output_type": "display_data"
    }
   ],
   "source": [
    "p0 = (262,339)\n",
    "edge_plot(p0)"
   ]
  },
  {
   "cell_type": "code",
   "execution_count": 11,
   "metadata": {},
   "outputs": [
    {
     "data": {
      "image/png": "[encoded data removed]",
      "text/plain": [
       "<Figure size 432x288 with 1 Axes>"
      ]
     },
     "metadata": {
      "needs_background": "light"
     },
     "output_type": "display_data"
    }
   ],
   "source": [
    "p1 = (137,185)\n",
    "edge_plot(p1)"
   ]
  },
  {
   "cell_type": "code",
   "execution_count": 12,
   "metadata": {},
   "outputs": [
    {
     "data": {
      "image/png": "[encoded data removed]",
      "text/plain": [
       "<Figure size 432x288 with 1 Axes>"
      ]
     },
     "metadata": {
      "needs_background": "light"
     },
     "output_type": "display_data"
    }
   ],
   "source": [
    "p2 = (478,335)\n",
    "edge_plot(p2)"
   ]
  },
  {
   "cell_type": "code",
   "execution_count": 13,
   "metadata": {},
   "outputs": [
    {
     "data": {
      "image/png": "[encoded data removed]",
      "text/plain": [
       "<Figure size 432x288 with 1 Axes>"
      ]
     },
     "metadata": {
      "needs_background": "light"
     },
     "output_type": "display_data"
    }
   ],
   "source": [
    "p3 = (177,268)\n",
    "edge_plot(p3)"
   ]
  },
  {
   "cell_type": "code",
   "execution_count": 14,
   "metadata": {},
   "outputs": [
    {
     "data": {
      "image/png": "[encoded data removed]",
      "text/plain": [
       "<Figure size 432x288 with 1 Axes>"
      ]
     },
     "metadata": {
      "needs_background": "light"
     },
     "output_type": "display_data"
    }
   ],
   "source": [
    "p4 = (290,237)\n",
    "edge_plot(p4)"
   ]
  },
  {
   "cell_type": "markdown",
   "metadata": {},
   "source": [
    "## そんなもんかと思ったあなた!\n",
    "\n",
    "### そんなもんちゃうで！\n",
    "\n",
    "かなり力技だけどランダムに赤い点を沢山落としてエッジをサーチするとこうなる。"
   ]
  },
  {
   "cell_type": "code",
   "execution_count": 41,
   "metadata": {},
   "outputs": [],
   "source": [
    "import random\n",
    "y_max,x_max = img.shape\n",
    "y_max -= 1\n",
    "x_max -= 1\n",
    "edges = []\n",
    "epoch = 0\n",
    "iteration = 0\n",
    "points_all = []"
   ]
  },
  {
   "cell_type": "code",
   "execution_count": 47,
   "metadata": {},
   "outputs": [
    {
     "data": {
      "image/png": "[encoded data removed]",
      "text/plain": [
       "<Figure size 432x288 with 1 Axes>"
      ]
     },
     "metadata": {
      "needs_background": "light"
     },
     "output_type": "display_data"
    },
    {
     "name": "stdout",
     "output_type": "stream",
     "text": [
      "epoch: 5\n",
      "iteration 259\n"
     ]
    }
   ],
   "source": [
    "epoch += 1\n",
    "N = 100\n",
    "\n",
    "points = [(random.randint(50,x_max-61),random.randint(50,y_max-61)) for i in range(N)]\n",
    "\n",
    "for point in points:\n",
    "    if is_background(img, point) == True:\n",
    "        continue\n",
    "    edges.extend(edge_trace(img, point, search_range = 30, background = 0))\n",
    "    iteration += 1\n",
    "\n",
    "points_all.extend(points)\n",
    "Px = [point[0] for point in points_all]\n",
    "Py = [point[1] for point in points_all]\n",
    "plt.scatter(Px,Py)\n",
    "Xs = [edge[0] for edge in edges]\n",
    "Ys = [edge[1] for edge in edges]\n",
    "plt.scatter(Xs,Ys)\n",
    "plt.gca().invert_yaxis()\n",
    "plt.show()\n",
    "\n",
    "print(\"epoch:\",epoch)\n",
    "print(\"iteration\",iteration)"
   ]
  },
  {
   "cell_type": "markdown",
   "metadata": {},
   "source": [
    "↑　領域内からはみ出した点は捨てている。\n",
    "この点を使ってペジエ曲線で囲めば閉じた領域を切り出すのはできそう。"
   ]
  }
 ],
 "metadata": {
  "kernelspec": {
   "display_name": "Python 3",
   "language": "python",
   "name": "python3"
  },
  "language_info": {
   "codemirror_mode": {
    "name": "ipython",
    "version": 3
   },
   "file_extension": ".py",
   "mimetype": "text/x-python",
   "name": "python",
   "nbconvert_exporter": "python",
   "pygments_lexer": "ipython3",
   "version": "3.7.3"
  }
 },
 "nbformat": 4,
 "nbformat_minor": 2
}
